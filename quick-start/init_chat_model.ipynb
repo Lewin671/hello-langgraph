{
 "cells": [
  {
   "cell_type": "code",
   "execution_count": 1,
   "id": "6d027106-af47-4ab6-96b2-fe73cfba31a1",
   "metadata": {},
   "outputs": [
    {
     "name": "stdout",
     "output_type": "stream",
     "text": [
      "model='granite3.3:8b' temperature=0.0\n"
     ]
    }
   ],
   "source": [
    "from langchain.chat_models import init_chat_model\n",
    "\n",
    "llm = init_chat_model(\"ollama:granite3.3:8b\", temperature=0)\n",
    "print(llm)"
   ]
  },
  {
   "cell_type": "code",
   "execution_count": 2,
   "id": "da82ca70-f02f-4e16-8805-4cc8da8506fb",
   "metadata": {
    "scrolled": true
   },
   "outputs": [
    {
     "data": {
      "text/plain": [
       "AIMessage(content=\"I don't have a personal name, but you can call me Assistant.\", additional_kwargs={}, response_metadata={'model': 'granite3.3:8b', 'created_at': '2025-06-19T13:06:14.804556Z', 'done': True, 'done_reason': 'stop', 'total_duration': 6325662833, 'load_duration': 2868796667, 'prompt_eval_count': 47, 'prompt_eval_duration': 2851638458, 'eval_count': 16, 'eval_duration': 600648042, 'model_name': 'granite3.3:8b'}, id='run--31af6fcc-7613-4766-bb22-2ddee42276d8-0', usage_metadata={'input_tokens': 47, 'output_tokens': 16, 'total_tokens': 63})"
      ]
     },
     "execution_count": 2,
     "metadata": {},
     "output_type": "execute_result"
    }
   ],
   "source": [
    "llm.invoke(\"what's your name\")"
   ]
  },
  {
   "cell_type": "code",
   "execution_count": 8,
   "id": "1183b1b8-bcbe-4820-bd09-14314b45fcf8",
   "metadata": {},
   "outputs": [
    {
     "name": "stdout",
     "output_type": "stream",
     "text": [
      "content='\"高血压与咖啡因关系\" OR \"咖啡因对高血压影响\" OR \"咖啡因摄入与高血压\" OR \"研究表明咖啡因和高血压之间的联系\"' additional_kwargs={} response_metadata={'model': 'granite3.3:8b', 'created_at': '2025-06-19T13:47:46.429726Z', 'done': True, 'done_reason': 'stop', 'total_duration': 2685427833, 'load_duration': 28558292, 'prompt_eval_count': 82, 'prompt_eval_duration': 227613166, 'eval_count': 62, 'eval_duration': 2427895417, 'model_name': 'granite3.3:8b'} id='run--90bcfbff-6d9e-4e73-9220-07b55bb95751-0' usage_metadata={'input_tokens': 82, 'output_tokens': 62, 'total_tokens': 144}\n"
     ]
    }
   ],
   "source": [
    "from langchain_core.messages import HumanMessage,SystemMessage\n",
    "\n",
    "# 构造 system prompt\n",
    "system_msg = SystemMessage(content=(\n",
    "    \"你是一个搜索助手，你的任务是根据用户的自然语言请求，生成一个结构化的搜索查询，\"\n",
    "    \"以便用于网页或数据库搜索。输出应该简洁、准确，并尽可能覆盖用户的真实意图。\"\n",
    "))\n",
    "\n",
    "# 用户输入\n",
    "user_msg = HumanMessage(content=\"我想了解高血压和咖啡因之间的关系\")\n",
    "\n",
    "# 执行调用\n",
    "ai_message = llm.invoke([system_msg, user_msg])\n",
    "print(ai_message)"
   ]
  },
  {
   "cell_type": "code",
   "execution_count": 10,
   "id": "3abb499b-77b6-4dfb-baad-f6f85172f9c5",
   "metadata": {},
   "outputs": [
    {
     "name": "stdout",
     "output_type": "stream",
     "text": [
      "search_query='high blood pressure AND coffee OR caffeine' justification='This search query will look for studies, articles or medical resources that discuss the relationship between high blood pressure and caffeine consumption. It covers both direct effects of caffeine on blood pressure and potential interactions with medications.'\n"
     ]
    }
   ],
   "source": [
    "from pydantic import BaseModel, Field\n",
    "\n",
    "class SearchQuery(BaseModel):\n",
    "    search_query: str = Field(None, description=\"Query that is optimized web search.\")\n",
    "    justification: str = Field(\n",
    "        None, description=\"Why this query is relevant to the user's request.\"\n",
    "    )\n",
    "structured_llm = llm.with_structured_output(SearchQuery)\n",
    "# 执行调用\n",
    "ai_message = structured_llm.invoke([system_msg, user_msg])\n",
    "print(ai_message)"
   ]
  },
  {
   "cell_type": "code",
   "execution_count": null,
   "id": "3b697d0f-b124-4eb8-8a5a-3efac6c250fd",
   "metadata": {},
   "outputs": [],
   "source": []
  }
 ],
 "metadata": {
  "kernelspec": {
   "display_name": "Python 3 (ipykernel)",
   "language": "python",
   "name": "python3"
  },
  "language_info": {
   "codemirror_mode": {
    "name": "ipython",
    "version": 3
   },
   "file_extension": ".py",
   "mimetype": "text/x-python",
   "name": "python",
   "nbconvert_exporter": "python",
   "pygments_lexer": "ipython3",
   "version": "3.13.4"
  }
 },
 "nbformat": 4,
 "nbformat_minor": 5
}
